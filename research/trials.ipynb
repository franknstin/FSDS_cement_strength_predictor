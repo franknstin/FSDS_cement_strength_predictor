{
 "cells": [
  {
   "cell_type": "code",
   "execution_count": 1,
   "metadata": {},
   "outputs": [],
   "source": [
    "import pandas as pd\n",
    "from pathlib import Path"
   ]
  },
  {
   "cell_type": "code",
   "execution_count": 3,
   "metadata": {},
   "outputs": [],
   "source": [
    "df = pd.read_csv(path)"
   ]
  },
  {
   "cell_type": "code",
   "execution_count": 2,
   "metadata": {},
   "outputs": [],
   "source": [
    "path = Path('C:\\\\Users\\\\anmha\\\\Desktop\\\\ML_project\\\\FSDS_cement_strength_predictor\\\\artifacts\\data_ingestion\\\\train\\\\train.csv')"
   ]
  },
  {
   "cell_type": "code",
   "execution_count": 4,
   "metadata": {},
   "outputs": [
    {
     "data": {
      "text/html": [
       "<div>\n",
       "<style scoped>\n",
       "    .dataframe tbody tr th:only-of-type {\n",
       "        vertical-align: middle;\n",
       "    }\n",
       "\n",
       "    .dataframe tbody tr th {\n",
       "        vertical-align: top;\n",
       "    }\n",
       "\n",
       "    .dataframe thead th {\n",
       "        text-align: right;\n",
       "    }\n",
       "</style>\n",
       "<table border=\"1\" class=\"dataframe\">\n",
       "  <thead>\n",
       "    <tr style=\"text-align: right;\">\n",
       "      <th></th>\n",
       "      <th>Cement (component 1)(kg in a m^3 mixture)</th>\n",
       "      <th>Blast Furnace Slag (component 2)(kg in a m^3 mixture)</th>\n",
       "      <th>Fly Ash (component 3)(kg in a m^3 mixture)</th>\n",
       "      <th>Water  (component 4)(kg in a m^3 mixture)</th>\n",
       "      <th>Superplasticizer (component 5)(kg in a m^3 mixture)</th>\n",
       "      <th>Coarse Aggregate  (component 6)(kg in a m^3 mixture)</th>\n",
       "      <th>Fine Aggregate (component 7)(kg in a m^3 mixture)</th>\n",
       "      <th>Age (day)</th>\n",
       "    </tr>\n",
       "  </thead>\n",
       "  <tbody>\n",
       "    <tr>\n",
       "      <th>0</th>\n",
       "      <td>150.00</td>\n",
       "      <td>237.0</td>\n",
       "      <td>0.00</td>\n",
       "      <td>174.00</td>\n",
       "      <td>12.00</td>\n",
       "      <td>1069.0</td>\n",
       "      <td>675.00</td>\n",
       "      <td>28</td>\n",
       "    </tr>\n",
       "    <tr>\n",
       "      <th>1</th>\n",
       "      <td>218.85</td>\n",
       "      <td>0.0</td>\n",
       "      <td>124.13</td>\n",
       "      <td>158.49</td>\n",
       "      <td>11.33</td>\n",
       "      <td>1078.7</td>\n",
       "      <td>794.91</td>\n",
       "      <td>14</td>\n",
       "    </tr>\n",
       "    <tr>\n",
       "      <th>2</th>\n",
       "      <td>339.00</td>\n",
       "      <td>0.0</td>\n",
       "      <td>0.00</td>\n",
       "      <td>197.00</td>\n",
       "      <td>0.00</td>\n",
       "      <td>968.0</td>\n",
       "      <td>781.00</td>\n",
       "      <td>365</td>\n",
       "    </tr>\n",
       "    <tr>\n",
       "      <th>3</th>\n",
       "      <td>143.80</td>\n",
       "      <td>136.3</td>\n",
       "      <td>106.20</td>\n",
       "      <td>178.10</td>\n",
       "      <td>7.50</td>\n",
       "      <td>941.5</td>\n",
       "      <td>774.30</td>\n",
       "      <td>28</td>\n",
       "    </tr>\n",
       "    <tr>\n",
       "      <th>4</th>\n",
       "      <td>252.50</td>\n",
       "      <td>0.0</td>\n",
       "      <td>0.00</td>\n",
       "      <td>185.70</td>\n",
       "      <td>0.00</td>\n",
       "      <td>1111.6</td>\n",
       "      <td>784.30</td>\n",
       "      <td>7</td>\n",
       "    </tr>\n",
       "  </tbody>\n",
       "</table>\n",
       "</div>"
      ],
      "text/plain": [
       "   Cement (component 1)(kg in a m^3 mixture)  \\\n",
       "0                                     150.00   \n",
       "1                                     218.85   \n",
       "2                                     339.00   \n",
       "3                                     143.80   \n",
       "4                                     252.50   \n",
       "\n",
       "   Blast Furnace Slag (component 2)(kg in a m^3 mixture)  \\\n",
       "0                                              237.0       \n",
       "1                                                0.0       \n",
       "2                                                0.0       \n",
       "3                                              136.3       \n",
       "4                                                0.0       \n",
       "\n",
       "   Fly Ash (component 3)(kg in a m^3 mixture)  \\\n",
       "0                                        0.00   \n",
       "1                                      124.13   \n",
       "2                                        0.00   \n",
       "3                                      106.20   \n",
       "4                                        0.00   \n",
       "\n",
       "   Water  (component 4)(kg in a m^3 mixture)  \\\n",
       "0                                     174.00   \n",
       "1                                     158.49   \n",
       "2                                     197.00   \n",
       "3                                     178.10   \n",
       "4                                     185.70   \n",
       "\n",
       "   Superplasticizer (component 5)(kg in a m^3 mixture)  \\\n",
       "0                                              12.00     \n",
       "1                                              11.33     \n",
       "2                                               0.00     \n",
       "3                                               7.50     \n",
       "4                                               0.00     \n",
       "\n",
       "   Coarse Aggregate  (component 6)(kg in a m^3 mixture)  \\\n",
       "0                                             1069.0      \n",
       "1                                             1078.7      \n",
       "2                                              968.0      \n",
       "3                                              941.5      \n",
       "4                                             1111.6      \n",
       "\n",
       "   Fine Aggregate (component 7)(kg in a m^3 mixture)  Age (day)  \n",
       "0                                             675.00         28  \n",
       "1                                             794.91         14  \n",
       "2                                             781.00        365  \n",
       "3                                             774.30         28  \n",
       "4                                             784.30          7  "
      ]
     },
     "execution_count": 4,
     "metadata": {},
     "output_type": "execute_result"
    }
   ],
   "source": [
    "df.head()"
   ]
  },
  {
   "cell_type": "code",
   "execution_count": 5,
   "metadata": {},
   "outputs": [
    {
     "data": {
      "text/html": [
       "<div>\n",
       "<style scoped>\n",
       "    .dataframe tbody tr th:only-of-type {\n",
       "        vertical-align: middle;\n",
       "    }\n",
       "\n",
       "    .dataframe tbody tr th {\n",
       "        vertical-align: top;\n",
       "    }\n",
       "\n",
       "    .dataframe thead th {\n",
       "        text-align: right;\n",
       "    }\n",
       "</style>\n",
       "<table border=\"1\" class=\"dataframe\">\n",
       "  <thead>\n",
       "    <tr style=\"text-align: right;\">\n",
       "      <th></th>\n",
       "      <th>Cement (component 1)(kg in a m^3 mixture)</th>\n",
       "      <th>Blast Furnace Slag (component 2)(kg in a m^3 mixture)</th>\n",
       "      <th>Fly Ash (component 3)(kg in a m^3 mixture)</th>\n",
       "      <th>Water  (component 4)(kg in a m^3 mixture)</th>\n",
       "      <th>Superplasticizer (component 5)(kg in a m^3 mixture)</th>\n",
       "      <th>Coarse Aggregate  (component 6)(kg in a m^3 mixture)</th>\n",
       "      <th>Fine Aggregate (component 7)(kg in a m^3 mixture)</th>\n",
       "      <th>Age (day)</th>\n",
       "    </tr>\n",
       "  </thead>\n",
       "  <tbody>\n",
       "    <tr>\n",
       "      <th>count</th>\n",
       "      <td>690.000000</td>\n",
       "      <td>690.000000</td>\n",
       "      <td>690.000000</td>\n",
       "      <td>690.000000</td>\n",
       "      <td>690.000000</td>\n",
       "      <td>690.00000</td>\n",
       "      <td>690.000000</td>\n",
       "      <td>690.000000</td>\n",
       "    </tr>\n",
       "    <tr>\n",
       "      <th>mean</th>\n",
       "      <td>285.671391</td>\n",
       "      <td>76.120696</td>\n",
       "      <td>50.387333</td>\n",
       "      <td>182.106710</td>\n",
       "      <td>6.058214</td>\n",
       "      <td>974.03100</td>\n",
       "      <td>770.467913</td>\n",
       "      <td>46.204348</td>\n",
       "    </tr>\n",
       "    <tr>\n",
       "      <th>std</th>\n",
       "      <td>108.880478</td>\n",
       "      <td>88.107933</td>\n",
       "      <td>62.980119</td>\n",
       "      <td>21.087613</td>\n",
       "      <td>6.060648</td>\n",
       "      <td>78.67354</td>\n",
       "      <td>80.192860</td>\n",
       "      <td>61.588646</td>\n",
       "    </tr>\n",
       "    <tr>\n",
       "      <th>min</th>\n",
       "      <td>102.000000</td>\n",
       "      <td>0.000000</td>\n",
       "      <td>0.000000</td>\n",
       "      <td>121.750000</td>\n",
       "      <td>0.000000</td>\n",
       "      <td>801.00000</td>\n",
       "      <td>594.000000</td>\n",
       "      <td>1.000000</td>\n",
       "    </tr>\n",
       "    <tr>\n",
       "      <th>25%</th>\n",
       "      <td>193.500000</td>\n",
       "      <td>0.000000</td>\n",
       "      <td>0.000000</td>\n",
       "      <td>166.610000</td>\n",
       "      <td>0.000000</td>\n",
       "      <td>932.00000</td>\n",
       "      <td>721.000000</td>\n",
       "      <td>14.000000</td>\n",
       "    </tr>\n",
       "    <tr>\n",
       "      <th>50%</th>\n",
       "      <td>277.000000</td>\n",
       "      <td>24.000000</td>\n",
       "      <td>0.000000</td>\n",
       "      <td>185.700000</td>\n",
       "      <td>6.000000</td>\n",
       "      <td>968.00000</td>\n",
       "      <td>778.000000</td>\n",
       "      <td>28.000000</td>\n",
       "    </tr>\n",
       "    <tr>\n",
       "      <th>75%</th>\n",
       "      <td>362.600000</td>\n",
       "      <td>146.725000</td>\n",
       "      <td>113.000000</td>\n",
       "      <td>192.000000</td>\n",
       "      <td>10.000000</td>\n",
       "      <td>1040.45000</td>\n",
       "      <td>821.000000</td>\n",
       "      <td>56.000000</td>\n",
       "    </tr>\n",
       "    <tr>\n",
       "      <th>max</th>\n",
       "      <td>540.000000</td>\n",
       "      <td>359.400000</td>\n",
       "      <td>195.000000</td>\n",
       "      <td>247.000000</td>\n",
       "      <td>32.200000</td>\n",
       "      <td>1145.00000</td>\n",
       "      <td>992.600000</td>\n",
       "      <td>365.000000</td>\n",
       "    </tr>\n",
       "  </tbody>\n",
       "</table>\n",
       "</div>"
      ],
      "text/plain": [
       "       Cement (component 1)(kg in a m^3 mixture)  \\\n",
       "count                                 690.000000   \n",
       "mean                                  285.671391   \n",
       "std                                   108.880478   \n",
       "min                                   102.000000   \n",
       "25%                                   193.500000   \n",
       "50%                                   277.000000   \n",
       "75%                                   362.600000   \n",
       "max                                   540.000000   \n",
       "\n",
       "       Blast Furnace Slag (component 2)(kg in a m^3 mixture)  \\\n",
       "count                                         690.000000       \n",
       "mean                                           76.120696       \n",
       "std                                            88.107933       \n",
       "min                                             0.000000       \n",
       "25%                                             0.000000       \n",
       "50%                                            24.000000       \n",
       "75%                                           146.725000       \n",
       "max                                           359.400000       \n",
       "\n",
       "       Fly Ash (component 3)(kg in a m^3 mixture)  \\\n",
       "count                                  690.000000   \n",
       "mean                                    50.387333   \n",
       "std                                     62.980119   \n",
       "min                                      0.000000   \n",
       "25%                                      0.000000   \n",
       "50%                                      0.000000   \n",
       "75%                                    113.000000   \n",
       "max                                    195.000000   \n",
       "\n",
       "       Water  (component 4)(kg in a m^3 mixture)  \\\n",
       "count                                 690.000000   \n",
       "mean                                  182.106710   \n",
       "std                                    21.087613   \n",
       "min                                   121.750000   \n",
       "25%                                   166.610000   \n",
       "50%                                   185.700000   \n",
       "75%                                   192.000000   \n",
       "max                                   247.000000   \n",
       "\n",
       "       Superplasticizer (component 5)(kg in a m^3 mixture)  \\\n",
       "count                                         690.000000     \n",
       "mean                                            6.058214     \n",
       "std                                             6.060648     \n",
       "min                                             0.000000     \n",
       "25%                                             0.000000     \n",
       "50%                                             6.000000     \n",
       "75%                                            10.000000     \n",
       "max                                            32.200000     \n",
       "\n",
       "       Coarse Aggregate  (component 6)(kg in a m^3 mixture)  \\\n",
       "count                                          690.00000      \n",
       "mean                                           974.03100      \n",
       "std                                             78.67354      \n",
       "min                                            801.00000      \n",
       "25%                                            932.00000      \n",
       "50%                                            968.00000      \n",
       "75%                                           1040.45000      \n",
       "max                                           1145.00000      \n",
       "\n",
       "       Fine Aggregate (component 7)(kg in a m^3 mixture)   Age (day)  \n",
       "count                                         690.000000  690.000000  \n",
       "mean                                          770.467913   46.204348  \n",
       "std                                            80.192860   61.588646  \n",
       "min                                           594.000000    1.000000  \n",
       "25%                                           721.000000   14.000000  \n",
       "50%                                           778.000000   28.000000  \n",
       "75%                                           821.000000   56.000000  \n",
       "max                                           992.600000  365.000000  "
      ]
     },
     "execution_count": 5,
     "metadata": {},
     "output_type": "execute_result"
    }
   ],
   "source": [
    "df.describe()"
   ]
  },
  {
   "cell_type": "code",
   "execution_count": 6,
   "metadata": {},
   "outputs": [
    {
     "name": "stdout",
     "output_type": "stream",
     "text": [
      "<class 'pandas.core.frame.DataFrame'>\n",
      "RangeIndex: 690 entries, 0 to 689\n",
      "Data columns (total 8 columns):\n",
      " #   Column                                                 Non-Null Count  Dtype  \n",
      "---  ------                                                 --------------  -----  \n",
      " 0   Cement (component 1)(kg in a m^3 mixture)              690 non-null    float64\n",
      " 1   Blast Furnace Slag (component 2)(kg in a m^3 mixture)  690 non-null    float64\n",
      " 2   Fly Ash (component 3)(kg in a m^3 mixture)             690 non-null    float64\n",
      " 3   Water  (component 4)(kg in a m^3 mixture)              690 non-null    float64\n",
      " 4   Superplasticizer (component 5)(kg in a m^3 mixture)    690 non-null    float64\n",
      " 5   Coarse Aggregate  (component 6)(kg in a m^3 mixture)   690 non-null    float64\n",
      " 6   Fine Aggregate (component 7)(kg in a m^3 mixture)      690 non-null    float64\n",
      " 7   Age (day)                                              690 non-null    int64  \n",
      "dtypes: float64(7), int64(1)\n",
      "memory usage: 43.2 KB\n"
     ]
    }
   ],
   "source": [
    "df.info()"
   ]
  },
  {
   "cell_type": "code",
   "execution_count": 7,
   "metadata": {},
   "outputs": [
    {
     "data": {
      "text/plain": [
       "Index(['Cement (component 1)(kg in a m^3 mixture)',\n",
       "       'Blast Furnace Slag (component 2)(kg in a m^3 mixture)',\n",
       "       'Fly Ash (component 3)(kg in a m^3 mixture)',\n",
       "       'Water  (component 4)(kg in a m^3 mixture)',\n",
       "       'Superplasticizer (component 5)(kg in a m^3 mixture)',\n",
       "       'Coarse Aggregate  (component 6)(kg in a m^3 mixture)',\n",
       "       'Fine Aggregate (component 7)(kg in a m^3 mixture)', 'Age (day)'],\n",
       "      dtype='object')"
      ]
     },
     "execution_count": 7,
     "metadata": {},
     "output_type": "execute_result"
    }
   ],
   "source": [
    "df.columns"
   ]
  },
  {
   "cell_type": "code",
   "execution_count": 8,
   "metadata": {},
   "outputs": [],
   "source": [
    "ls = ['Cement', 'Blast Furnace Slag', 'Fly Ash', 'Water', 'Superplasticizer', 'Coarse Aggregate', 'Fine Aggregate', 'Age']"
   ]
  },
  {
   "cell_type": "code",
   "execution_count": 9,
   "metadata": {},
   "outputs": [],
   "source": [
    "df.columns = ls"
   ]
  },
  {
   "cell_type": "code",
   "execution_count": 10,
   "metadata": {},
   "outputs": [
    {
     "data": {
      "text/html": [
       "<div>\n",
       "<style scoped>\n",
       "    .dataframe tbody tr th:only-of-type {\n",
       "        vertical-align: middle;\n",
       "    }\n",
       "\n",
       "    .dataframe tbody tr th {\n",
       "        vertical-align: top;\n",
       "    }\n",
       "\n",
       "    .dataframe thead th {\n",
       "        text-align: right;\n",
       "    }\n",
       "</style>\n",
       "<table border=\"1\" class=\"dataframe\">\n",
       "  <thead>\n",
       "    <tr style=\"text-align: right;\">\n",
       "      <th></th>\n",
       "      <th>Cement</th>\n",
       "      <th>Blast Furnace Slag</th>\n",
       "      <th>Fly Ash</th>\n",
       "      <th>Water</th>\n",
       "      <th>Superplasticizer</th>\n",
       "      <th>Coarse Aggregate</th>\n",
       "      <th>Fine Aggregate</th>\n",
       "      <th>Age</th>\n",
       "    </tr>\n",
       "  </thead>\n",
       "  <tbody>\n",
       "    <tr>\n",
       "      <th>0</th>\n",
       "      <td>150.00</td>\n",
       "      <td>237.0</td>\n",
       "      <td>0.00</td>\n",
       "      <td>174.00</td>\n",
       "      <td>12.00</td>\n",
       "      <td>1069.0</td>\n",
       "      <td>675.00</td>\n",
       "      <td>28</td>\n",
       "    </tr>\n",
       "    <tr>\n",
       "      <th>1</th>\n",
       "      <td>218.85</td>\n",
       "      <td>0.0</td>\n",
       "      <td>124.13</td>\n",
       "      <td>158.49</td>\n",
       "      <td>11.33</td>\n",
       "      <td>1078.7</td>\n",
       "      <td>794.91</td>\n",
       "      <td>14</td>\n",
       "    </tr>\n",
       "    <tr>\n",
       "      <th>2</th>\n",
       "      <td>339.00</td>\n",
       "      <td>0.0</td>\n",
       "      <td>0.00</td>\n",
       "      <td>197.00</td>\n",
       "      <td>0.00</td>\n",
       "      <td>968.0</td>\n",
       "      <td>781.00</td>\n",
       "      <td>365</td>\n",
       "    </tr>\n",
       "    <tr>\n",
       "      <th>3</th>\n",
       "      <td>143.80</td>\n",
       "      <td>136.3</td>\n",
       "      <td>106.20</td>\n",
       "      <td>178.10</td>\n",
       "      <td>7.50</td>\n",
       "      <td>941.5</td>\n",
       "      <td>774.30</td>\n",
       "      <td>28</td>\n",
       "    </tr>\n",
       "    <tr>\n",
       "      <th>4</th>\n",
       "      <td>252.50</td>\n",
       "      <td>0.0</td>\n",
       "      <td>0.00</td>\n",
       "      <td>185.70</td>\n",
       "      <td>0.00</td>\n",
       "      <td>1111.6</td>\n",
       "      <td>784.30</td>\n",
       "      <td>7</td>\n",
       "    </tr>\n",
       "    <tr>\n",
       "      <th>...</th>\n",
       "      <td>...</td>\n",
       "      <td>...</td>\n",
       "      <td>...</td>\n",
       "      <td>...</td>\n",
       "      <td>...</td>\n",
       "      <td>...</td>\n",
       "      <td>...</td>\n",
       "      <td>...</td>\n",
       "    </tr>\n",
       "    <tr>\n",
       "      <th>685</th>\n",
       "      <td>286.30</td>\n",
       "      <td>200.9</td>\n",
       "      <td>0.00</td>\n",
       "      <td>144.70</td>\n",
       "      <td>11.20</td>\n",
       "      <td>1004.6</td>\n",
       "      <td>803.70</td>\n",
       "      <td>3</td>\n",
       "    </tr>\n",
       "    <tr>\n",
       "      <th>686</th>\n",
       "      <td>246.83</td>\n",
       "      <td>0.0</td>\n",
       "      <td>125.08</td>\n",
       "      <td>143.30</td>\n",
       "      <td>11.99</td>\n",
       "      <td>1086.8</td>\n",
       "      <td>800.89</td>\n",
       "      <td>14</td>\n",
       "    </tr>\n",
       "    <tr>\n",
       "      <th>687</th>\n",
       "      <td>190.34</td>\n",
       "      <td>0.0</td>\n",
       "      <td>125.18</td>\n",
       "      <td>166.61</td>\n",
       "      <td>9.88</td>\n",
       "      <td>1079.0</td>\n",
       "      <td>798.90</td>\n",
       "      <td>100</td>\n",
       "    </tr>\n",
       "    <tr>\n",
       "      <th>688</th>\n",
       "      <td>475.00</td>\n",
       "      <td>118.8</td>\n",
       "      <td>0.00</td>\n",
       "      <td>181.10</td>\n",
       "      <td>8.90</td>\n",
       "      <td>852.1</td>\n",
       "      <td>781.50</td>\n",
       "      <td>28</td>\n",
       "    </tr>\n",
       "    <tr>\n",
       "      <th>689</th>\n",
       "      <td>314.00</td>\n",
       "      <td>0.0</td>\n",
       "      <td>113.00</td>\n",
       "      <td>170.00</td>\n",
       "      <td>10.00</td>\n",
       "      <td>925.0</td>\n",
       "      <td>783.00</td>\n",
       "      <td>28</td>\n",
       "    </tr>\n",
       "  </tbody>\n",
       "</table>\n",
       "<p>690 rows × 8 columns</p>\n",
       "</div>"
      ],
      "text/plain": [
       "     Cement  Blast Furnace Slag  Fly Ash   Water  Superplasticizer  \\\n",
       "0    150.00               237.0     0.00  174.00             12.00   \n",
       "1    218.85                 0.0   124.13  158.49             11.33   \n",
       "2    339.00                 0.0     0.00  197.00              0.00   \n",
       "3    143.80               136.3   106.20  178.10              7.50   \n",
       "4    252.50                 0.0     0.00  185.70              0.00   \n",
       "..      ...                 ...      ...     ...               ...   \n",
       "685  286.30               200.9     0.00  144.70             11.20   \n",
       "686  246.83                 0.0   125.08  143.30             11.99   \n",
       "687  190.34                 0.0   125.18  166.61              9.88   \n",
       "688  475.00               118.8     0.00  181.10              8.90   \n",
       "689  314.00                 0.0   113.00  170.00             10.00   \n",
       "\n",
       "     Coarse Aggregate  Fine Aggregate  Age  \n",
       "0              1069.0          675.00   28  \n",
       "1              1078.7          794.91   14  \n",
       "2               968.0          781.00  365  \n",
       "3               941.5          774.30   28  \n",
       "4              1111.6          784.30    7  \n",
       "..                ...             ...  ...  \n",
       "685            1004.6          803.70    3  \n",
       "686            1086.8          800.89   14  \n",
       "687            1079.0          798.90  100  \n",
       "688             852.1          781.50   28  \n",
       "689             925.0          783.00   28  \n",
       "\n",
       "[690 rows x 8 columns]"
      ]
     },
     "execution_count": 10,
     "metadata": {},
     "output_type": "execute_result"
    }
   ],
   "source": [
    "df"
   ]
  },
  {
   "cell_type": "code",
   "execution_count": 11,
   "metadata": {},
   "outputs": [
    {
     "name": "stdout",
     "output_type": "stream",
     "text": [
      "<class 'pandas.core.frame.DataFrame'>\n",
      "RangeIndex: 690 entries, 0 to 689\n",
      "Data columns (total 8 columns):\n",
      " #   Column              Non-Null Count  Dtype  \n",
      "---  ------              --------------  -----  \n",
      " 0   Cement              690 non-null    float64\n",
      " 1   Blast Furnace Slag  690 non-null    float64\n",
      " 2   Fly Ash             690 non-null    float64\n",
      " 3   Water               690 non-null    float64\n",
      " 4   Superplasticizer    690 non-null    float64\n",
      " 5   Coarse Aggregate    690 non-null    float64\n",
      " 6   Fine Aggregate      690 non-null    float64\n",
      " 7   Age                 690 non-null    int64  \n",
      "dtypes: float64(7), int64(1)\n",
      "memory usage: 43.2 KB\n"
     ]
    }
   ],
   "source": [
    "df.info()"
   ]
  },
  {
   "cell_type": "code",
   "execution_count": 12,
   "metadata": {},
   "outputs": [
    {
     "data": {
      "text/plain": [
       "(690, 8)"
      ]
     },
     "execution_count": 12,
     "metadata": {},
     "output_type": "execute_result"
    }
   ],
   "source": [
    "df.shape"
   ]
  },
  {
   "cell_type": "code",
   "execution_count": 14,
   "metadata": {},
   "outputs": [
    {
     "data": {
      "text/plain": [
       "pandas.core.series.Series"
      ]
     },
     "execution_count": 14,
     "metadata": {},
     "output_type": "execute_result"
    }
   ],
   "source": [
    "type(df.Cement)"
   ]
  },
  {
   "cell_type": "code",
   "execution_count": 17,
   "metadata": {},
   "outputs": [
    {
     "data": {
      "text/plain": [
       "True"
      ]
     },
     "execution_count": 17,
     "metadata": {},
     "output_type": "execute_result"
    }
   ],
   "source": [
    "df.dtypes.Cement == 'float64'"
   ]
  },
  {
   "cell_type": "code",
   "execution_count": 18,
   "metadata": {},
   "outputs": [
    {
     "data": {
      "text/plain": [
       "Index(['Cement', 'Blast Furnace Slag', 'Fly Ash', 'Water', 'Superplasticizer',\n",
       "       'Coarse Aggregate', 'Fine Aggregate', 'Age'],\n",
       "      dtype='object')"
      ]
     },
     "execution_count": 18,
     "metadata": {},
     "output_type": "execute_result"
    }
   ],
   "source": [
    "df.columns"
   ]
  },
  {
   "cell_type": "code",
   "execution_count": 19,
   "metadata": {},
   "outputs": [
    {
     "data": {
      "text/plain": [
       "dtype('float64')"
      ]
     },
     "execution_count": 19,
     "metadata": {},
     "output_type": "execute_result"
    }
   ],
   "source": [
    "from numpy import dtype\n",
    "\n",
    "\n",
    "df['Cement'].dtype"
   ]
  },
  {
   "cell_type": "code",
   "execution_count": null,
   "metadata": {},
   "outputs": [],
   "source": []
  }
 ],
 "metadata": {
  "kernelspec": {
   "display_name": "Python 3.8.13 (conda)",
   "language": "python",
   "name": "python3"
  },
  "language_info": {
   "codemirror_mode": {
    "name": "ipython",
    "version": 3
   },
   "file_extension": ".py",
   "mimetype": "text/x-python",
   "name": "python",
   "nbconvert_exporter": "python",
   "pygments_lexer": "ipython3",
   "version": "3.8.13"
  },
  "orig_nbformat": 4,
  "vscode": {
   "interpreter": {
    "hash": "7739e95fa814371e55b0ead20272b0250ddd1878663e849d90c6f271e5153969"
   }
  }
 },
 "nbformat": 4,
 "nbformat_minor": 2
}
