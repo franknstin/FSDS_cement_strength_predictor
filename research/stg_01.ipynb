{
 "cells": [
  {
   "cell_type": "code",
   "execution_count": 59,
   "metadata": {},
   "outputs": [],
   "source": [
    "from collections import namedtuple\n",
    "from sklearn.model_selection import train_test_split\n",
    "import pandas as pd\n",
    "import zipfile\n",
    "from cementStrength.constants import *\n",
    "from cementStrength.utils import read_yaml, create_directories\n",
    "import os\n",
    "import urllib.request as request\n",
    "from zipfile import ZipFile\n",
    "import tarfile\n",
    "from cementStrength import logger\n",
    "os.chdir(\"../\")\n",
    "import yaml"
   ]
  },
  {
   "cell_type": "code",
   "execution_count": null,
   "metadata": {},
   "outputs": [],
   "source": [
    "DataIngestionConfig = namedtuple(\"DataIngestionConfig\", [\n",
    "    \"root_dir\",\n",
    "    \"source_URL\",\n",
    "    \"local_data_file\",\n",
    "    \"unzip_dir\",\n",
    "    \"ingested_data_train_dir\",\n",
    "    \"ingested_data_test_dir\"])"
   ]
  },
  {
   "cell_type": "code",
   "execution_count": 69,
   "metadata": {},
   "outputs": [],
   "source": [
    "with open(CONFIG_FILE_PATH) as yaml_file:\n",
    "        content = yaml.safe_load(yaml_file)"
   ]
  },
  {
   "cell_type": "code",
   "execution_count": 70,
   "metadata": {},
   "outputs": [],
   "source": [
    "from box import ConfigBox\n",
    "x = ConfigBox(content)"
   ]
  },
  {
   "cell_type": "code",
   "execution_count": 71,
   "metadata": {},
   "outputs": [
    {
     "data": {
      "text/plain": [
       "ConfigBox({'artifacts_root': 'artifacts', 'data_ingestion': {'root_dir': 'artifacts/data_ingestion', 'source_URL': 'https://archive.ics.uci.edu/ml/machine-learning-databases/concrete/compressive/Concrete_Data.xls', 'local_data_file': 'artifacts/data_ingestion/data.xls', 'unzip_dir': 'artifacts/data_ingestion', 'ingested_data_train_dir': 'artifacts/data_ingestion/train', 'ingested_data_test_dir': 'artifacts/data_ingestion/test'}})"
      ]
     },
     "execution_count": 71,
     "metadata": {},
     "output_type": "execute_result"
    }
   ],
   "source": [
    "x"
   ]
  },
  {
   "cell_type": "code",
   "execution_count": 73,
   "metadata": {},
   "outputs": [
    {
     "data": {
      "text/plain": [
       "'artifacts/data_ingestion'"
      ]
     },
     "execution_count": 73,
     "metadata": {},
     "output_type": "execute_result"
    }
   ],
   "source": [
    "x.data_ingestion.root_dir"
   ]
  },
  {
   "cell_type": "code",
   "execution_count": 77,
   "metadata": {},
   "outputs": [],
   "source": [
    "\n",
    "\n",
    "\n",
    "class ConfigurationManager:\n",
    "    def __init__(self, \n",
    "                config_filepath = CONFIG_FILE_PATH,\n",
    "                params_filepath = PARAMS_FILE_PATH):\n",
    "        self.config = read_yaml(config_filepath)\n",
    "        self.params = read_yaml(params_filepath)\n",
    "        create_directories([self.config.artifacts_root])\n",
    "\n",
    "    def get_data_ingestion_config(self)-> DataIngestionConfig:\n",
    "        config = self.config.data_ingestion\n",
    "\n",
    "        create_directories([config.root_dir])\n",
    "        create_directories([config.ingested_data_train_dir, config.ingested_data_test_dir])\n",
    "\n",
    "        data_ingestion_config = DataIngestionConfig(\n",
    "            root_dir=config.root_dir,\n",
    "            source_URL=config.source_URL,\n",
    "            local_data_file=config.local_data_file,\n",
    "            unzip_dir=config.unzip_dir,\n",
    "            ingested_data_train_dir = config.ingested_data_train_dir,\n",
    "            ingested_data_test_dir= config.ingested_data_test_dir\n",
    "        )\n",
    "        return data_ingestion_config\n",
    "\n"
   ]
  },
  {
   "cell_type": "code",
   "execution_count": 82,
   "metadata": {},
   "outputs": [],
   "source": [
    "import logging\n",
    "\n",
    "\n",
    "class DataIngestion:\n",
    "    def __init__(self, config: DataIngestionConfig):\n",
    "        self.config = config\n",
    "\n",
    "    def download_file(self):\n",
    "        logger.info(\"downloading data file\")\n",
    "        if not os.path.exists(self.config.local_data_file):\n",
    "            filename, headers = request.urlretrieve(\n",
    "                url=self.config.source_URL,\n",
    "                filename = self.config.local_data_file\n",
    "            )\n",
    "        logger.info(\"file downloaded\")\n",
    "\n",
    "    # def unzip_file(self):\n",
    "    #     logger.info(\"extracting zip file\")\n",
    "    #     with ZipFile(file=self.config.local_data_file) as zf:\n",
    "    #         zf.extractall(self.config.unzip_dir)\n",
    "    #     logger.info(\"file extraction done\")\n",
    "\n",
    "\n",
    "    def split_data_as_train_test(self):\n",
    "        downloaded_file_path = self.config.local_data_file\n",
    "        train_filename = \"train.csv\"\n",
    "        test_filename = \"test.csv\"\n",
    "        train_file_path = os.path.join(self.config.ingested_data_train_dir, train_filename)\n",
    "        test_file_path = os.path.join(self.config.ingested_data_test_dir, test_filename)\n",
    "\n",
    "        logger.info(\"reading excel file into pandas dataframe\")\n",
    "        cement_strength_df = pd.read_excel(downloaded_file_path)\n",
    "        X = cement_strength_df.iloc[:,:-1]\n",
    "        y = cement_strength_df.iloc[:,-1]\n",
    "        logger.info(\"splitting df in train and test\")\n",
    "        X_train, X_test, y_train, y_test = train_test_split(X, y, test_size=0.33, random_state=42)\n",
    "\n",
    "        if X_train is not None:\n",
    "            logger.info(\"saving X_train....\")\n",
    "            X_train.to_csv(train_file_path, index=False)\n",
    "            logger.info(\"saved X_train\")\n",
    "\n",
    "        if X_test is not None:\n",
    "            logger.info(\"saving X_test....\")\n",
    "            X_test.to_csv(test_file_path, index=False)\n",
    "            logger.info(\"saved X_test\")\n"
   ]
  },
  {
   "cell_type": "code",
   "execution_count": 83,
   "metadata": {},
   "outputs": [
    {
     "name": "stdout",
     "output_type": "stream",
     "text": [
      "[2022-10-06 20:27:39,032: INFO: common]: yaml file: configs\\config.yaml loaded successfully\n",
      "[2022-10-06 20:27:39,040: INFO: common]: yaml file: params.yaml loaded successfully\n",
      "[2022-10-06 20:27:39,044: INFO: common]: created directory at: artifacts\n",
      "[2022-10-06 20:27:39,052: INFO: common]: created directory at: artifacts/data_ingestion\n",
      "[2022-10-06 20:27:39,060: INFO: common]: created directory at: artifacts/data_ingestion/train\n",
      "[2022-10-06 20:27:39,065: INFO: common]: created directory at: artifacts/data_ingestion/test\n",
      "[2022-10-06 20:27:39,069: INFO: 611451049]: downloading data file\n",
      "[2022-10-06 20:27:42,303: INFO: 611451049]: file downloaded\n",
      "[2022-10-06 20:27:42,307: INFO: 611451049]: reading excel file into pandas dataframe\n",
      "[2022-10-06 20:27:42,486: INFO: 611451049]: splitting df in train and test\n",
      "[2022-10-06 20:27:42,491: INFO: 611451049]: saving X_train....\n",
      "[2022-10-06 20:27:42,503: INFO: 611451049]: saved X_train\n",
      "[2022-10-06 20:27:42,505: INFO: 611451049]: saving X_test....\n",
      "[2022-10-06 20:27:42,514: INFO: 611451049]: saved X_test\n"
     ]
    }
   ],
   "source": [
    "try:\n",
    "    config = ConfigurationManager()\n",
    "    data_ingestion_config = config.get_data_ingestion_config()\n",
    "    data_ingestion = DataIngestion(config = data_ingestion_config)\n",
    "    data_ingestion.download_file()\n",
    "    data_ingestion.split_data_as_train_test()\n",
    "except Exception as e:\n",
    "    raise e"
   ]
  },
  {
   "cell_type": "code",
   "execution_count": 84,
   "metadata": {},
   "outputs": [],
   "source": [
    "import pandas "
   ]
  },
  {
   "cell_type": "code",
   "execution_count": null,
   "metadata": {},
   "outputs": [],
   "source": []
  }
 ],
 "metadata": {
  "kernelspec": {
   "display_name": "Python 3.8.13 (conda)",
   "language": "python",
   "name": "python3"
  },
  "language_info": {
   "codemirror_mode": {
    "name": "ipython",
    "version": 3
   },
   "file_extension": ".py",
   "mimetype": "text/x-python",
   "name": "python",
   "nbconvert_exporter": "python",
   "pygments_lexer": "ipython3",
   "version": "3.8.13"
  },
  "orig_nbformat": 4,
  "vscode": {
   "interpreter": {
    "hash": "7739e95fa814371e55b0ead20272b0250ddd1878663e849d90c6f271e5153969"
   }
  }
 },
 "nbformat": 4,
 "nbformat_minor": 2
}
